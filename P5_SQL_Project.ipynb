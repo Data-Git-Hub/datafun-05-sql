{
 "cells": [
  {
   "cell_type": "markdown",
   "metadata": {},
   "source": [
    "# P5 SQL Project Notebook\n",
    "---\n",
    "\n",
    "### sql_create folder:\n",
    "- 01_drop_tables.sql - drop tables to restart\n",
    "- 02_create_tables.sql - create your database schema using sql\n",
    "- 03_insert_records.sql - insert at least 10 additional records into each table.\n",
    "  \n",
    "###  db01_setup.py:\n",
    "- Create a Python script that demonstrates the ability to create a database, define a schema, and insert records. Make it easy to re-run by dropping the tables first.\n",
    "\n",
    "---\n",
    "\n",
    "### sql_features folder:\n",
    "\n",
    "- update_records.sql - update 1 or more records in a table.\n",
    "- delete_records.sql - delete 1 or more records from a table.\n",
    "\n",
    "### db02_features.py\n",
    "- Create a Python script that demonstrates the ability to run sql scripts to interact with fields, update records, delete records, and maybe add additional columns.\n",
    "\n",
    "---\n",
    "\n",
    "### sql_queries folder:\n",
    "\n",
    "- query_aggregation.sql - use aggregation functions including COUNT, AVG, SUM.\n",
    "- query_filter.sql - use WHERE to filter data based on conditions.\n",
    "- query_sorting.sql - use ORDER BY to sort data.\n",
    "- query_group_by.sql - use GROUP BY clause (and optionally with aggregation)\n",
    "- query_join.sql - use INNER JOIN operation and optionally include LEFT JOIN, RIGHT JOIN, etc.\n",
    "\n",
    "#### Use Python to execute the SQL queries and maybe chart, illustrate, and/or summarize your findings:\n",
    "\n",
    "### db03_queries.py\n",
    "\n",
    "---\n"
   ]
  },
  {
   "cell_type": "markdown",
   "metadata": {},
   "source": []
  },
  {
   "cell_type": "markdown",
   "metadata": {},
   "source": []
  }
 ],
 "metadata": {
  "language_info": {
   "name": "python"
  }
 },
 "nbformat": 4,
 "nbformat_minor": 2
}
